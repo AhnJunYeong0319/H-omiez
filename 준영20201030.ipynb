{
  "nbformat": 4,
  "nbformat_minor": 0,
  "metadata": {
    "colab": {
      "name": "준영20201030.ipynb",
      "provenance": [],
      "collapsed_sections": [],
      "authorship_tag": "ABX9TyN2zsedPEpMYCYlu8aCnwxR",
      "include_colab_link": true
    },
    "kernelspec": {
      "name": "python3",
      "display_name": "Python 3"
    }
  },
  "cells": [
    {
      "cell_type": "markdown",
      "metadata": {
        "id": "view-in-github",
        "colab_type": "text"
      },
      "source": [
        "<a href=\"https://colab.research.google.com/github/AhnJunYeong0319/Smarketforecast/blob/master/%EC%A4%80%EC%98%8120201030.ipynb\" target=\"_parent\"><img src=\"https://colab.research.google.com/assets/colab-badge.svg\" alt=\"Open In Colab\"/></a>"
      ]
    },
    {
      "cell_type": "code",
      "metadata": {
        "id": "wc8kRc75VS7h"
      },
      "source": [
        "import pandas as pd \n",
        "\n",
        "#해당 링크는 한국거래소에서 상장법인목록을 엑셀로 다운로드하는 링크입니다.\n",
        "#다운로드와 동시에 Pandas에 excel 파일이 load가 되는 구조입니다.\n",
        "stock_code = pd.read_html('http://kind.krx.co.kr/corpgeneral/corpList.do?method=download', header=0)[0] \n",
        "#stock_code.head()\n",
        "\n",
        "# 데이터에서 정렬이 따로 필요하지는 않지만 테스트겸 Pandas sort_values를 이용하여 정렬을 시도해봅니다.\n",
        "stock_code.sort_values(['상장일'], ascending=True)\n",
        "\n",
        "# 필요한 것은 \"회사명\"과 \"종목코드\" 이므로 필요없는 column들은 제외\n",
        "stock_code = stock_code[['회사명', '종목코드']] \n",
        "\n",
        "# 한글 컬럼명을 영어로 변경 \n",
        "stock_code = stock_code.rename(columns={'회사명': 'company', '종목코드': 'code'}) \n",
        "#stock_code.head()\n",
        "\n",
        "# 종목코드가 6자리이기 때문에 6자리를 맞춰주기 위해 설정해줌 \n",
        "stock_code.code = stock_code.code.map('{:06d}'.format) "
      ],
      "execution_count": 1,
      "outputs": []
    },
    {
      "cell_type": "code",
      "metadata": {
        "id": "R18YI-36VShM"
      },
      "source": [
        ""
      ],
      "execution_count": null,
      "outputs": []
    },
    {
      "cell_type": "code",
      "metadata": {
        "id": "wRuRARykVR4o"
      },
      "source": [
        ""
      ],
      "execution_count": null,
      "outputs": []
    },
    {
      "cell_type": "code",
      "metadata": {
        "id": "-G2o1x5LVOyx"
      },
      "source": [
        ""
      ],
      "execution_count": null,
      "outputs": []
    }
  ]
}